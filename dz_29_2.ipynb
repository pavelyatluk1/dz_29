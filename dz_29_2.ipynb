{
 "cells": [
  {
   "cell_type": "markdown",
   "id": "cb1104cc",
   "metadata": {},
   "source": [
    "#### Pavlo Yatluk\n",
    "#### dz_29_2\n"
   ]
  },
  {
   "cell_type": "markdown",
   "id": "02323428",
   "metadata": {},
   "source": [
    "### ЗАВДАННЯ"
   ]
  },
  {
   "cell_type": "markdown",
   "id": "958a7158",
   "metadata": {},
   "source": [
    "#### Випадкова величина Х розподілена рівномірно. Знайти щільність її розподілу, якщо P(X >= 3) = 0,4, а математичне сподівання M(X) = 2"
   ]
  },
  {
   "cell_type": "markdown",
   "id": "d2f1e3c5",
   "metadata": {},
   "source": [
    "### ВИРІШЕННЯ"
   ]
  },
  {
   "cell_type": "markdown",
   "id": "c20812b4",
   "metadata": {},
   "source": [
    "#### 1. Ймовірність випадкової рівномірної величини у інтервалі (с ; d):\n",
    "\n",
    "#### $P(c < X < d) = \\frac{d - c}{b - a} = 0.4$\n",
    "\n"
   ]
  },
  {
   "cell_type": "markdown",
   "id": "f6cbaffc",
   "metadata": {},
   "source": [
    "#### $c = 3, d = b$"
   ]
  },
  {
   "cell_type": "markdown",
   "id": "1c696b7a",
   "metadata": {},
   "source": [
    "#### $\\frac{b - 3}{b - a} = 0.4$"
   ]
  },
  {
   "cell_type": "markdown",
   "id": "b70d8f59",
   "metadata": {},
   "source": [
    "#### 2. Математичне сподівання \n",
    "\n",
    "#### $M(X) = \\frac{a + b}{2} = 2$"
   ]
  },
  {
   "cell_type": "markdown",
   "id": "7a61fa1d",
   "metadata": {},
   "source": [
    "#### 3. Маємо систему рівнянь\n",
    "\n",
    "\n",
    "#### $\\frac{b-3}{b-a} = 0.4$\n",
    "\n",
    "$\\frac{a+b}{2}=2$\n"
   ]
  },
  {
   "cell_type": "markdown",
   "id": "844d7fab",
   "metadata": {},
   "source": [
    "#### 4. Вирішуємо систему"
   ]
  },
  {
   "cell_type": "markdown",
   "id": "4824bb1d",
   "metadata": {},
   "source": [
    "$0.4a + 0.6b = 3$\n",
    "\n",
    "$a + b = 4$"
   ]
  },
  {
   "cell_type": "markdown",
   "id": "7bb88664",
   "metadata": {},
   "source": [
    "$a = -3$\n",
    "\n",
    "$b = 7$"
   ]
  },
  {
   "cell_type": "markdown",
   "id": "c242c892",
   "metadata": {},
   "source": [
    "####  5. Щільність розподілу\n",
    "\n",
    "$0,  x <= -3$\n",
    "\n",
    "$0.1, -3 <= x <= 7$\n",
    "\n",
    "$0,  x > 7$"
   ]
  },
  {
   "cell_type": "markdown",
   "id": "7068ea34",
   "metadata": {},
   "source": [
    "### ВІДПОВІДЬ\n"
   ]
  },
  {
   "cell_type": "markdown",
   "id": "02c620fb",
   "metadata": {},
   "source": [
    "### В інтервалі -3 <= x <= 7 щільність розподілу випадкової величини дорівнює 0,1"
   ]
  },
  {
   "cell_type": "code",
   "execution_count": null,
   "id": "f73a3e38",
   "metadata": {},
   "outputs": [],
   "source": []
  }
 ],
 "metadata": {
  "kernelspec": {
   "display_name": "Python 3 (ipykernel)",
   "language": "python",
   "name": "python3"
  },
  "language_info": {
   "codemirror_mode": {
    "name": "ipython",
    "version": 3
   },
   "file_extension": ".py",
   "mimetype": "text/x-python",
   "name": "python",
   "nbconvert_exporter": "python",
   "pygments_lexer": "ipython3",
   "version": "3.10.8"
  }
 },
 "nbformat": 4,
 "nbformat_minor": 5
}
