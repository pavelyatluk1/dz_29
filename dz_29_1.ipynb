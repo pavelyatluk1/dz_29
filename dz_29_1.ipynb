{
 "cells": [
  {
   "cell_type": "markdown",
   "id": "605749ba",
   "metadata": {},
   "source": [
    "#### Pavlo Yatluk\n",
    "#### dz_29_1"
   ]
  },
  {
   "cell_type": "markdown",
   "id": "77ac7451",
   "metadata": {},
   "source": [
    "### ЗАВДАННЯ"
   ]
  },
  {
   "cell_type": "markdown",
   "id": "53add9e4",
   "metadata": {},
   "source": [
    "#### Протягом 50 років вимірювався рівень води навесні під час повені відносно умовного нуля. Результати наведено у вигляді інтервалььного статистичного розподілу."
   ]
  },
  {
   "cell_type": "markdown",
   "id": "93e3853c",
   "metadata": {},
   "source": [
    "|$x_i$ |0-24   |24-48   |48-72   |72-96   |96-120  |120-144 |144-168 |168-192 |192-216 |\n",
    "|:---  |:---:  |:---:   |:---:   |:---:   |:---:   |:---:   |:---:   |:---:   | ---:   |\n",
    "|$n_i$ |1      |2       |4       |6       |12      |16      |6       |2       |1       |                                                                        "
   ]
  },
  {
   "cell_type": "markdown",
   "id": "e1fe0276",
   "metadata": {},
   "source": [
    "#### За даними статистичними розподілами вибірки висунути $H_0$ про закон розподілу ознаки генеральної сукупності при рівні значущасті $\\alpha = 0,01$, перевірити її правильність."
   ]
  },
  {
   "cell_type": "markdown",
   "id": "43805950",
   "metadata": {},
   "source": [
    "### ВИРІШЕННЯ"
   ]
  },
  {
   "cell_type": "markdown",
   "id": "3e2b0fec",
   "metadata": {},
   "source": [
    "#### 1. Висуваємо нульову гіпотезу $H_0$: ознака Х має нормальний закон розподілу ймовірностей. Для перевірки правильності $H_0$ використаємо критерій узгодженості Пірсона.\n",
    "\n"
   ]
  },
  {
   "cell_type": "markdown",
   "id": "f0b700e2",
   "metadata": {},
   "source": [
    "$$K =\\sum_{i=1}^{m}\\frac{(n_i - \\overline{n}_i)^2}{\\overline{n}_i} = n\\sum_{i=1}^{m}\\frac{(w_i - p_i)^2}{p_i}$$"
   ]
  },
  {
   "cell_type": "markdown",
   "id": "ad0955ec",
   "metadata": {},
   "source": [
    "#### 2. Знайдемо середини часткових інтервалів $x_i = \\frac{\\alpha_{i-1} + \\alpha_i}{2}$ та складемо таблицю"
   ]
  },
  {
   "cell_type": "markdown",
   "id": "634e1377",
   "metadata": {},
   "source": [
    "|$x_i$ |12     |36      |60      |84      |108     |132     |156     |180     |204     |\n",
    "|:---  |:---:  |:---:   |:---:   |:---:   |:---:   |:---:   |:---:   |:---:   | ---:   |\n",
    "|$n_i$ |1      |2       |4       |6       |12      |16      |6       |2       |1       |     "
   ]
  },
  {
   "cell_type": "markdown",
   "id": "ee40c894",
   "metadata": {},
   "source": [
    "#### 3. Об'єм вибірки\n",
    "\n",
    "#### $$n = \\sum_{i=1}^m n_i = 1+2+4+6+12+16+6+2+1 = 50$$"
   ]
  },
  {
   "cell_type": "markdown",
   "id": "55d23b2e",
   "metadata": {},
   "source": [
    "#### 4. Вибіркове середнє\n",
    "\n",
    "$$\\overline{x} = \\frac{1}{n}\\sum_{i=1}^m x_i n_i = \\frac{1}{50} (12\\cdot1 + 36\\cdot2 + 60\\cdot4 + 84\\cdot6 + 108\\cdot12 + 132\\cdot16 + 156\\cdot6 + 180\\cdot2 + 204\\cdot1)= \\frac{5736}{50} = 114.72$$\n",
    "\n"
   ]
  },
  {
   "cell_type": "markdown",
   "id": "b566a0ba",
   "metadata": {},
   "source": [
    "#### 5. Вибіркова дисперсія\n",
    "\n",
    "$$\\overline{D} = \\frac{1}{n}\\sum_{i=1}^m x_i^2 n_i - (\\overline{x})^2 = \\frac{1}{50} (12^2\\cdot1 + 36^2\\cdot2 + 60^2\\cdot4 + 84^2\\cdot6 + 108^2\\cdot12 + 132^2\\cdot16 + 156^2\\cdot6 + 180^2\\cdot2 + 204^2\\cdot1)-114.72^2 =  \\frac{730656}{50} - 13160.68 = 14613.12-13160.68 = 1452.44$$"
   ]
  },
  {
   "cell_type": "markdown",
   "id": "ed89f764",
   "metadata": {},
   "source": [
    "#### 6. Середньоквадратичне відхилення\n",
    "\n",
    "$$\\overline\\sigma = \\sqrt{\\overline{D}} \\approx \\sqrt{1452.44} \\approx 38.11$$"
   ]
  },
  {
   "cell_type": "markdown",
   "id": "fbcec240",
   "metadata": {},
   "source": [
    "#### 7. Перейдемо від інтервалів $(𝑎_{𝑖−1}, 𝑎_𝑖]$ до інтервалів $(𝑧_{𝑖−1}, 𝑧_𝑖]$ за формулами:\n",
    "#### $$𝑧_{𝑖−1} = \\frac{𝑎_{i-1} -𝑥̅}{𝜎̅},         𝑧_𝑖 = \\frac{𝑎_𝑖−𝑥̅}{𝜎̅}$$\n",
    "#### причому найменше значення $𝑧_0$ покладемо рівним\n",
    "#### −∞, а найбільше значення $𝑧_𝑚$ покладемо рівним +∞."
   ]
  },
  {
   "cell_type": "markdown",
   "id": "915d8f07",
   "metadata": {},
   "source": [
    "#### $z_0 = \\frac{\\alpha_0 - \\overline{x}}{\\overline\\sigma} = −∞$; $z_1 = \\frac{\\alpha_1 - \\overline{x}}{\\overline\\sigma} \\approx \\frac{24-114.72}{38.11}\\approx -2.38$;"
   ]
  },
  {
   "cell_type": "markdown",
   "id": "68d44002",
   "metadata": {},
   "source": [
    "$z_2 = \\frac{\\alpha_2 - \\overline{x}}{\\overline\\sigma} \\approx \\frac{48-114.72}{38.11}\\approx -1.75$;              $z_3 = \\frac{\\alpha_3 - \\overline{x}}{\\overline\\sigma} \\approx \\frac{72-114.72}{38.11}\\approx -1.12$;"
   ]
  },
  {
   "cell_type": "markdown",
   "id": "3435e75c",
   "metadata": {},
   "source": [
    "$z_4 = \\frac{\\alpha_4 - \\overline{x}}{\\overline\\sigma} \\approx \\frac{96-114.72}{38.11}\\approx -0.49$;     $z_5 = \\frac{\\alpha_5 - \\overline{x}}{\\overline\\sigma} \\approx \\frac{120-114.72}{38.11}\\approx 0.14$;"
   ]
  },
  {
   "cell_type": "markdown",
   "id": "3bbb83b3",
   "metadata": {},
   "source": [
    "$z_6 = \\frac{\\alpha_6 - \\overline{x}}{\\overline\\sigma} \\approx \\frac{144-114.72}{38.11}\\approx 0.77$;   $z_7 = \\frac{\\alpha_7 - \\overline{x}}{\\overline\\sigma} \\approx \\frac{168-114.72}{38.11}\\approx 1.4$;"
   ]
  },
  {
   "cell_type": "markdown",
   "id": "91c516c1",
   "metadata": {},
   "source": [
    "$z_8 = \\frac{\\alpha_8 - \\overline{x}}{\\overline\\sigma} \\approx \\frac{192-114.72}{38.11}\\approx 2.03$;   $z_9 = \\frac{\\alpha_9 - \\overline{x}}{\\overline\\sigma} = +∞$"
   ]
  },
  {
   "cell_type": "markdown",
   "id": "ec00b081",
   "metadata": {},
   "source": [
    "#### 8. Обчислимо теоретичні ймовірності 𝑝𝑖 потрапляння випадкової величини\n",
    "#### X в інтервали $(𝑎_{𝑖−1}, 𝑎_𝑖]$ за формулою $𝑝_𝑖 = Ф(𝑧_𝑖) − Ф(𝑧_{𝑖−1})$, де Ф(𝑥) –\n",
    "#### інтегральна функція Лапласа, та теоретичні частоти $𝑛̅_𝑖 = 𝑛𝑝_𝑖$\n",
    "#### (тут 𝑛 = 50 – об’єм вибірки). Для цього заповнимо розрахункову таблицю (Ф(−∞) = −0,5; Ф(+∞) = 0,5):"
   ]
  },
  {
   "cell_type": "markdown",
   "id": "7a7a039d",
   "metadata": {},
   "source": [
    "|i         |$z_{i-1}; z_i$         | Ф(z(i-1))        |Ф(z(i))         |p(i)       | 50p(i)     |           \n",
    "|----------|-----------------------|------------------|----------------|-----------|------------| \n",
    "|1         |−∞ ; -2.38             |-0.5              |-0.4913         |0.0087     |0           |\n",
    "|2         |-2.38 ; -1.75          |-0.4913           |-0.4599         |0.0314     |2           |\n",
    "|3         |-1.75 ; -1.12          |-0.4599           |-0.3686         |0.0913     |5           |\n",
    "|4         |-1.12 ; -0.49          |-0.3686           |-0.1879         |0.1807     |9           |\n",
    "|5         |-0.49 ;  0.14          |-0.1879           | 0.0557         |0.2436     |12          |\n",
    "|6         | 0.14 ;  0.77          | 0.0557           | 0.2794         |0.2237     |11          |\n",
    "|7         | 0.77 ;  1.4           | 0.2794           | 0.4192         |0.1398     |7           |\n",
    "|8         | 1.4  ;  2.03          | 0.4192           | 0.4785         |0.0593     |3           |\n",
    "|9         | 2.3  ;  +∞            | 0.4785           | 0.5            |0.0215     |1           |\n"
   ]
  },
  {
   "cell_type": "markdown",
   "id": "99fd868d",
   "metadata": {},
   "source": [
    "#### 9. Обчислимо вибіркове значення критерію $K_{емп}$\n",
    "\n",
    "$$K_{емп} =\\sum_{i=1}^{m}\\frac{(n_i - \\overline{n}_i)^2}{\\overline{n}_i}$$"
   ]
  },
  {
   "cell_type": "markdown",
   "id": "c60650c8",
   "metadata": {},
   "source": [
    "|$$i$$ |$$n_i$$       |$$\\overline{n_i}$$|$$n_i-\\overline{n_i}$$|$$(n_i-\\overline{n_i})^2$$ |$$K_{емп}$$ |           \n",
    "|------|--------------|------------------|----------------------|---------------------------|------------| \n",
    "|1     |1             |0                 |1                     |1                          |0           |\n",
    "|2     |2             |2                 |0                     |0                          |0           |\n",
    "|3     |4             |5                 |-1                    |1                          |0.2         |\n",
    "|4     |6             |9                 |-3                    |9                          |1           |\n",
    "|5     |12            |12                |0                     |0                          |0           |\n",
    "|6     |16            |11                |5                     |25                         |2.27        |\n",
    "|7     |6             |7                 |1                     |1                          |0.14        |\n",
    "|8     |2             |3                 |-1                    |1                          |0.33        |\n",
    "|9     |1             |1                 |0                     |0                          |0           |"
   ]
  },
  {
   "cell_type": "markdown",
   "id": "a2cb2aaa",
   "metadata": {},
   "source": [
    "#### $$K_{емп} = 0.2 + 1 + 2.27 + 0.14 + 0.33 = 3.95$$"
   ]
  },
  {
   "cell_type": "markdown",
   "id": "600a07d3",
   "metadata": {},
   "source": [
    "#### 10. При рівні значущості $\\alpha = 0.01$ та числі ступенів свободи r = m - s - 1 = 9 - 2 - 1 = 6, знаходимо критичну точку $K_{кр} = 16,8$"
   ]
  },
  {
   "cell_type": "markdown",
   "id": "ece574a3",
   "metadata": {},
   "source": [
    "#### 11. $K_{кр} > K_{емп} = 16.8 > 3.95$"
   ]
  },
  {
   "cell_type": "markdown",
   "id": "1504f3dc",
   "metadata": {},
   "source": [
    "### ВІДПОВІДЬ"
   ]
  },
  {
   "cell_type": "markdown",
   "id": "2188a30d",
   "metadata": {},
   "source": [
    "### Так як $K_{кр} > K_{емп}$, то висунута гіпотеза  $H_0$ про нормальний закон розподілу ознаки генеральної сукупності правильна."
   ]
  },
  {
   "cell_type": "code",
   "execution_count": null,
   "id": "4293e0c3",
   "metadata": {},
   "outputs": [],
   "source": []
  }
 ],
 "metadata": {
  "kernelspec": {
   "display_name": "Python 3 (ipykernel)",
   "language": "python",
   "name": "python3"
  },
  "language_info": {
   "codemirror_mode": {
    "name": "ipython",
    "version": 3
   },
   "file_extension": ".py",
   "mimetype": "text/x-python",
   "name": "python",
   "nbconvert_exporter": "python",
   "pygments_lexer": "ipython3",
   "version": "3.10.8"
  }
 },
 "nbformat": 4,
 "nbformat_minor": 5
}
